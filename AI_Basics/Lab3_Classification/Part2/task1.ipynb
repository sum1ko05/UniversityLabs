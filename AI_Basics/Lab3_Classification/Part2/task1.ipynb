{
 "cells": [
  {
   "cell_type": "markdown",
   "id": "3cd08312",
   "metadata": {},
   "source": [
    "Initial table, without any deletions:"
   ]
  },
  {
   "cell_type": "code",
   "execution_count": 5,
   "id": "613c3e62",
   "metadata": {},
   "outputs": [
    {
     "name": "stdout",
     "output_type": "stream",
     "text": [
      "     PassengerId  Survived  Pclass  \\\n",
      "0              1         0       3   \n",
      "1              2         1       1   \n",
      "2              3         1       3   \n",
      "3              4         1       1   \n",
      "4              5         0       3   \n",
      "..           ...       ...     ...   \n",
      "886          887         0       2   \n",
      "887          888         1       1   \n",
      "888          889         0       3   \n",
      "889          890         1       1   \n",
      "890          891         0       3   \n",
      "\n",
      "                                                  Name     Sex   Age  SibSp  \\\n",
      "0                              Braund, Mr. Owen Harris    male  22.0      1   \n",
      "1    Cumings, Mrs. John Bradley (Florence Briggs Th...  female  38.0      1   \n",
      "2                               Heikkinen, Miss. Laina  female  26.0      0   \n",
      "3         Futrelle, Mrs. Jacques Heath (Lily May Peel)  female  35.0      1   \n",
      "4                             Allen, Mr. William Henry    male  35.0      0   \n",
      "..                                                 ...     ...   ...    ...   \n",
      "886                              Montvila, Rev. Juozas    male  27.0      0   \n",
      "887                       Graham, Miss. Margaret Edith  female  19.0      0   \n",
      "888           Johnston, Miss. Catherine Helen \"Carrie\"  female   NaN      1   \n",
      "889                              Behr, Mr. Karl Howell    male  26.0      0   \n",
      "890                                Dooley, Mr. Patrick    male  32.0      0   \n",
      "\n",
      "     Parch            Ticket     Fare Cabin Embarked  \n",
      "0        0         A/5 21171   7.2500   NaN        S  \n",
      "1        0          PC 17599  71.2833   C85        C  \n",
      "2        0  STON/O2. 3101282   7.9250   NaN        S  \n",
      "3        0            113803  53.1000  C123        S  \n",
      "4        0            373450   8.0500   NaN        S  \n",
      "..     ...               ...      ...   ...      ...  \n",
      "886      0            211536  13.0000   NaN        S  \n",
      "887      0            112053  30.0000   B42        S  \n",
      "888      2        W./C. 6607  23.4500   NaN        S  \n",
      "889      0            111369  30.0000  C148        C  \n",
      "890      0            370376   7.7500   NaN        Q  \n",
      "\n",
      "[891 rows x 12 columns]\n"
     ]
    }
   ],
   "source": [
    "import pandas as pd\n",
    "\n",
    "\n",
    "dataframe = pd.read_csv(\"Titanic.csv\")\n",
    "\n",
    "print(dataframe)"
   ]
  },
  {
   "cell_type": "markdown",
   "id": "547393b8",
   "metadata": {},
   "source": [
    "Table after dropping NaNs, except Sex and Embarked, they're converted into float values:"
   ]
  },
  {
   "cell_type": "code",
   "execution_count": null,
   "id": "6edd7c3d",
   "metadata": {},
   "outputs": [
    {
     "name": "stdout",
     "output_type": "stream",
     "text": [
      "Initial rows: 891\n",
      "     Survived  Pclass  Sex   Age  SibSp  Parch     Fare  Embarked\n",
      "1           1       1    1  38.0      1      0  71.2833         1\n",
      "3           1       1    1  35.0      1      0  53.1000         3\n",
      "6           0       1    0  54.0      0      0  51.8625         3\n",
      "10          1       3    1   4.0      1      1  16.7000         3\n",
      "11          1       1    1  58.0      0      0  26.5500         3\n",
      "..        ...     ...  ...   ...    ...    ...      ...       ...\n",
      "871         1       1    1  47.0      1      1  52.5542         3\n",
      "872         0       1    0  33.0      0      0   5.0000         3\n",
      "879         1       1    1  56.0      0      1  83.1583         1\n",
      "887         1       1    1  19.0      0      0  30.0000         3\n",
      "889         1       1    0  26.0      0      0  30.0000         1\n",
      "\n",
      "[183 rows x 8 columns]\n",
      "Rows after dropping: 183\n",
      "Dropped rows percent: 79.46127946127946\n"
     ]
    },
    {
     "name": "stderr",
     "output_type": "stream",
     "text": [
      "C:\\Users\\User\\AppData\\Local\\Temp\\ipykernel_22316\\534361306.py:26: FutureWarning: Downcasting behavior in `replace` is deprecated and will be removed in a future version. To retain the old behavior, explicitly call `result.infer_objects(copy=False)`. To opt-in to the future behavior, set `pd.set_option('future.no_silent_downcasting', True)`\n",
      "  dataframe.replace(key, convert_sex[key], inplace=True)\n",
      "C:\\Users\\User\\AppData\\Local\\Temp\\ipykernel_22316\\534361306.py:28: FutureWarning: Downcasting behavior in `replace` is deprecated and will be removed in a future version. To retain the old behavior, explicitly call `result.infer_objects(copy=False)`. To opt-in to the future behavior, set `pd.set_option('future.no_silent_downcasting', True)`\n",
      "  dataframe.replace(key, convert_embarked[key], inplace=True)\n"
     ]
    }
   ],
   "source": [
    "import pandas as pd\n",
    "#import os\n",
    "\n",
    "#print(os.getcwd())\n",
    "dataframe = pd.read_csv(\"Titanic.csv\")\n",
    "init_rows = len(dataframe)\n",
    "print(f'Initial rows: {init_rows}')\n",
    "\n",
    "dataframe.dropna(axis=0, how='any', inplace=True)\n",
    "delete_list = []\n",
    "ignore_delete = ['Sex', 'Embarked']\n",
    "for column in dataframe:\n",
    "    try:\n",
    "        float(dataframe[column][1])\n",
    "    except ValueError:\n",
    "        if column in ignore_delete:\n",
    "            continue\n",
    "        delete_list.append(column)\n",
    "delete_list.append('PassengerId')\n",
    "dataframe.drop(delete_list, axis=1, inplace=True)\n",
    "\n",
    "convert_sex = {'male': 0, 'female': 1}\n",
    "convert_embarked = {'C': 1, 'Q': 2, 'S': 3}\n",
    "\n",
    "for key in convert_sex:\n",
    "    dataframe.replace(key, convert_sex[key], inplace=True)\n",
    "for key in convert_embarked:\n",
    "    dataframe.replace(key, convert_embarked[key], inplace=True)\n",
    "\n",
    "print(dataframe)\n",
    "\n",
    "print(f'Rows after dropping: {len(dataframe)}\\nDropped rows percent: {(init_rows - len(dataframe))/init_rows*100:.2f}')"
   ]
  }
 ],
 "metadata": {
  "kernelspec": {
   "display_name": "Python 3",
   "language": "python",
   "name": "python3"
  },
  "language_info": {
   "codemirror_mode": {
    "name": "ipython",
    "version": 3
   },
   "file_extension": ".py",
   "mimetype": "text/x-python",
   "name": "python",
   "nbconvert_exporter": "python",
   "pygments_lexer": "ipython3",
   "version": "3.12.3"
  }
 },
 "nbformat": 4,
 "nbformat_minor": 5
}
