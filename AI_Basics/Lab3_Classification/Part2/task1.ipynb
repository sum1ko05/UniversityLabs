{
 "cells": [
  {
   "cell_type": "markdown",
   "id": "3cd08312",
   "metadata": {},
   "source": [
    "Initial table, without any deletions:"
   ]
  },
  {
   "cell_type": "code",
   "execution_count": 13,
   "id": "613c3e62",
   "metadata": {},
   "outputs": [
    {
     "name": "stdout",
     "output_type": "stream",
     "text": [
      "     PassengerId  Survived  Pclass  \\\n",
      "0              1         0       3   \n",
      "1              2         1       1   \n",
      "2              3         1       3   \n",
      "3              4         1       1   \n",
      "4              5         0       3   \n",
      "..           ...       ...     ...   \n",
      "886          887         0       2   \n",
      "887          888         1       1   \n",
      "888          889         0       3   \n",
      "889          890         1       1   \n",
      "890          891         0       3   \n",
      "\n",
      "                                                  Name     Sex   Age  SibSp  \\\n",
      "0                              Braund, Mr. Owen Harris    male  22.0      1   \n",
      "1    Cumings, Mrs. John Bradley (Florence Briggs Th...  female  38.0      1   \n",
      "2                               Heikkinen, Miss. Laina  female  26.0      0   \n",
      "3         Futrelle, Mrs. Jacques Heath (Lily May Peel)  female  35.0      1   \n",
      "4                             Allen, Mr. William Henry    male  35.0      0   \n",
      "..                                                 ...     ...   ...    ...   \n",
      "886                              Montvila, Rev. Juozas    male  27.0      0   \n",
      "887                       Graham, Miss. Margaret Edith  female  19.0      0   \n",
      "888           Johnston, Miss. Catherine Helen \"Carrie\"  female   NaN      1   \n",
      "889                              Behr, Mr. Karl Howell    male  26.0      0   \n",
      "890                                Dooley, Mr. Patrick    male  32.0      0   \n",
      "\n",
      "     Parch            Ticket     Fare Cabin Embarked  \n",
      "0        0         A/5 21171   7.2500   NaN        S  \n",
      "1        0          PC 17599  71.2833   C85        C  \n",
      "2        0  STON/O2. 3101282   7.9250   NaN        S  \n",
      "3        0            113803  53.1000  C123        S  \n",
      "4        0            373450   8.0500   NaN        S  \n",
      "..     ...               ...      ...   ...      ...  \n",
      "886      0            211536  13.0000   NaN        S  \n",
      "887      0            112053  30.0000   B42        S  \n",
      "888      2        W./C. 6607  23.4500   NaN        S  \n",
      "889      0            111369  30.0000  C148        C  \n",
      "890      0            370376   7.7500   NaN        Q  \n",
      "\n",
      "[891 rows x 12 columns]\n"
     ]
    }
   ],
   "source": [
    "import pandas as pd\n",
    "\n",
    "\n",
    "dataframe = pd.read_csv(\"Titanic.csv\")\n",
    "\n",
    "print(dataframe)"
   ]
  },
  {
   "cell_type": "markdown",
   "id": "547393b8",
   "metadata": {},
   "source": [
    "Table after dropping NaNs, except Sex and Embarked, they're converted into float values:"
   ]
  },
  {
   "cell_type": "code",
   "execution_count": 14,
   "id": "6edd7c3d",
   "metadata": {},
   "outputs": [
    {
     "name": "stdout",
     "output_type": "stream",
     "text": [
      "Initial rows: 891\n",
      "     Survived  Pclass  Sex   Age  SibSp  Parch     Fare  Embarked\n",
      "1           1       1    1  38.0      1      0  71.2833         1\n",
      "3           1       1    1  35.0      1      0  53.1000         3\n",
      "6           0       1    0  54.0      0      0  51.8625         3\n",
      "10          1       3    1   4.0      1      1  16.7000         3\n",
      "11          1       1    1  58.0      0      0  26.5500         3\n",
      "..        ...     ...  ...   ...    ...    ...      ...       ...\n",
      "871         1       1    1  47.0      1      1  52.5542         3\n",
      "872         0       1    0  33.0      0      0   5.0000         3\n",
      "879         1       1    1  56.0      0      1  83.1583         1\n",
      "887         1       1    1  19.0      0      0  30.0000         3\n",
      "889         1       1    0  26.0      0      0  30.0000         1\n",
      "\n",
      "[183 rows x 8 columns]\n",
      "Rows after dropping: 183\n",
      "Dropped rows percent: 79.46\n"
     ]
    },
    {
     "name": "stderr",
     "output_type": "stream",
     "text": [
      "C:\\Users\\User\\AppData\\Local\\Temp\\ipykernel_7756\\1453642511.py:21: FutureWarning: Downcasting behavior in `replace` is deprecated and will be removed in a future version. To retain the old behavior, explicitly call `result.infer_objects(copy=False)`. To opt-in to the future behavior, set `pd.set_option('future.no_silent_downcasting', True)`\n",
      "  dataframe.replace(key, convert_sex[key], inplace=True)\n",
      "C:\\Users\\User\\AppData\\Local\\Temp\\ipykernel_7756\\1453642511.py:23: FutureWarning: Downcasting behavior in `replace` is deprecated and will be removed in a future version. To retain the old behavior, explicitly call `result.infer_objects(copy=False)`. To opt-in to the future behavior, set `pd.set_option('future.no_silent_downcasting', True)`\n",
      "  dataframe.replace(key, convert_embarked[key], inplace=True)\n"
     ]
    }
   ],
   "source": [
    "init_rows = len(dataframe)\n",
    "print(f'Initial rows: {init_rows}')\n",
    "\n",
    "dataframe.dropna(axis=0, how='any', inplace=True)\n",
    "delete_list = []\n",
    "ignore_delete = ['Sex', 'Embarked']\n",
    "for column in dataframe:\n",
    "    try:\n",
    "        float(dataframe[column][1])\n",
    "    except ValueError:\n",
    "        if column in ignore_delete:\n",
    "            continue\n",
    "        delete_list.append(column)\n",
    "delete_list.append('PassengerId')\n",
    "dataframe.drop(delete_list, axis=1, inplace=True)\n",
    "\n",
    "convert_sex = {'male': 0, 'female': 1}\n",
    "convert_embarked = {'C': 1, 'Q': 2, 'S': 3}\n",
    "\n",
    "for key in convert_sex:\n",
    "    dataframe.replace(key, convert_sex[key], inplace=True)\n",
    "for key in convert_embarked:\n",
    "    dataframe.replace(key, convert_embarked[key], inplace=True)\n",
    "\n",
    "print(dataframe)\n",
    "\n",
    "print(f'Rows after dropping: {len(dataframe)}\\nDropped rows percent: {(init_rows - len(dataframe))/init_rows*100:.2f}')"
   ]
  },
  {
   "cell_type": "markdown",
   "id": "4b03140d",
   "metadata": {},
   "source": [
    "Preparing data for model training, creating separate data with Embarked column and without"
   ]
  },
  {
   "cell_type": "code",
   "execution_count": 15,
   "id": "8ee296b8",
   "metadata": {},
   "outputs": [],
   "source": [
    "from sklearn.model_selection import train_test_split\n",
    "\n",
    "dataframe_no_embarked = dataframe.drop('Embarked', axis=1)\n",
    "\n",
    "data_x = dataframe.drop(\"Survived\", axis=1)\n",
    "data_y = dataframe[\"Survived\"]\n",
    "\n",
    "data_ne_x = dataframe_no_embarked.drop(\"Survived\", axis=1)\n",
    "data_ne_y = dataframe_no_embarked[\"Survived\"]\n",
    "\n",
    "data_x_train, data_x_test, data_y_train, data_y_test = train_test_split(data_x, data_y, test_size=0.3)\n",
    "data_ne_x_train, data_ne_x_test, data_ne_y_train, data_ne_y_test = train_test_split(data_ne_x, data_ne_y, test_size=0.3)"
   ]
  },
  {
   "cell_type": "markdown",
   "id": "31959896",
   "metadata": {},
   "source": [
    "Model training and testing"
   ]
  },
  {
   "cell_type": "code",
   "execution_count": 16,
   "id": "c194e4db",
   "metadata": {},
   "outputs": [
    {
     "name": "stdout",
     "output_type": "stream",
     "text": [
      "With Embarked accuracy: 0.89\n",
      "Without Embarked accuracy: 0.76\n"
     ]
    }
   ],
   "source": [
    "from sklearn.linear_model import LogisticRegression\n",
    "\n",
    "clf_with_embarked = LogisticRegression(random_state=0, max_iter=300)\n",
    "clf_with_embarked.fit(data_x_train, data_y_train)\n",
    "\n",
    "clf_without_embarked = LogisticRegression(random_state=0, max_iter=300)\n",
    "clf_without_embarked.fit(data_ne_x_train, data_ne_y_train)\n",
    "\n",
    "embarked_pred = clf_with_embarked.predict(data_x_test)\n",
    "no_embarked_pred = clf_without_embarked.predict(data_ne_x_test)\n",
    "\n",
    "embarked_accuracy = clf_with_embarked.score(data_x_test, data_y_test)\n",
    "no_embarked_accuracy = clf_without_embarked.score(data_ne_x_test, data_ne_y_test)\n",
    "\n",
    "print(f\"With Embarked accuracy: {embarked_accuracy:.2f}\")\n",
    "print(f\"Without Embarked accuracy: {no_embarked_accuracy:.2f}\")"
   ]
  }
 ],
 "metadata": {
  "kernelspec": {
   "display_name": "Python 3",
   "language": "python",
   "name": "python3"
  },
  "language_info": {
   "codemirror_mode": {
    "name": "ipython",
    "version": 3
   },
   "file_extension": ".py",
   "mimetype": "text/x-python",
   "name": "python",
   "nbconvert_exporter": "python",
   "pygments_lexer": "ipython3",
   "version": "3.12.3"
  }
 },
 "nbformat": 4,
 "nbformat_minor": 5
}
