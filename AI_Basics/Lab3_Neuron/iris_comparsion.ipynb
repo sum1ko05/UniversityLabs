{
 "cells": [
  {
   "cell_type": "markdown",
   "id": "51e3a2da",
   "metadata": {},
   "source": [
    "Fetching Iris data for model comparsion"
   ]
  },
  {
   "cell_type": "code",
   "execution_count": 1,
   "id": "d7e99939",
   "metadata": {},
   "outputs": [],
   "source": [
    "from sklearn.datasets import load_iris\n",
    "from sklearn.metrics import accuracy_score\n",
    "from sklearn.linear_model import Perceptron as SkPerceptron\n",
    "from sklearn.svm import SVC\n",
    "\n",
    "iris = load_iris()\n",
    "X_iris = iris.data[-100:]\n",
    "y_iris = iris.target[-100:]"
   ]
  },
  {
   "cell_type": "markdown",
   "id": "ef757737",
   "metadata": {},
   "source": [
    "Perceptron setup"
   ]
  },
  {
   "cell_type": "code",
   "execution_count": 2,
   "id": "60e2c20d",
   "metadata": {},
   "outputs": [],
   "source": [
    "sk_perceptron = SkPerceptron(max_iter=100, random_state=0)\n",
    "sk_perceptron.fit(X_iris, y_iris)\n",
    "sk_prediction = sk_perceptron.predict(X_iris)\n",
    "sk_accuracy = accuracy_score(y_iris, sk_prediction)"
   ]
  },
  {
   "cell_type": "markdown",
   "id": "549e3edb",
   "metadata": {},
   "source": [
    "SVC setup"
   ]
  },
  {
   "cell_type": "code",
   "execution_count": 3,
   "id": "66c859e4",
   "metadata": {},
   "outputs": [],
   "source": [
    "svc = SVC(max_iter=100, random_state=0)\n",
    "svc.fit(X_iris, y_iris)\n",
    "svc_prediction = svc.predict(X_iris)\n",
    "svc_accuracy = accuracy_score(y_iris, svc_prediction)"
   ]
  },
  {
   "cell_type": "markdown",
   "id": "8e22daf6",
   "metadata": {},
   "source": [
    "Only raw stats comparsion here, no displaying on plot"
   ]
  },
  {
   "cell_type": "code",
   "execution_count": 4,
   "id": "961c9642",
   "metadata": {},
   "outputs": [
    {
     "name": "stdout",
     "output_type": "stream",
     "text": [
      "Perceptron accuracy: 0.74\n",
      "SVC accuracy: 0.96\n",
      "Accuracy delta: 0.22\n"
     ]
    }
   ],
   "source": [
    "print(f\"Perceptron accuracy: {sk_accuracy:.2f}\")\n",
    "print(f\"SVC accuracy: {svc_accuracy:.2f}\")\n",
    "print(f\"Accuracy delta: {abs(svc_accuracy - sk_accuracy):.2f}\")"
   ]
  }
 ],
 "metadata": {
  "kernelspec": {
   "display_name": "Python 3",
   "language": "python",
   "name": "python3"
  },
  "language_info": {
   "codemirror_mode": {
    "name": "ipython",
    "version": 3
   },
   "file_extension": ".py",
   "mimetype": "text/x-python",
   "name": "python",
   "nbconvert_exporter": "python",
   "pygments_lexer": "ipython3",
   "version": "3.12.3"
  }
 },
 "nbformat": 4,
 "nbformat_minor": 5
}
